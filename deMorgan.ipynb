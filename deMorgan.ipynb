{
 "cells": [
  {
   "attachments": {},
   "cell_type": "markdown",
   "metadata": {},
   "source": [
    "# de Morganの法則: de Morgan's law\n",
    "$$\n",
    "\\begin{align}\n",
    "\\neg({A\\wedge B})&=\\neg{A}\\vee\\neg{B}\\\\\n",
    "\\neg({A\\vee B})&=\\neg{A}\\wedge\\neg{B}\\\\\n",
    "\\end{align}\n",
    "$$\n",
    "以下は、Latex形式出力"
   ]
  },
  {
   "cell_type": "code",
   "execution_count": null,
   "metadata": {},
   "outputs": [],
   "source": [
    "for p in [True,False]:\n",
    "    for q in [True,False]:\n",
    "        x = not (p or q)\n",
    "        y = not (p and q)\n",
    "        a = (not p) and (not q)\n",
    "        b = (not p) or (not q)\n",
    "        s = f'{p}&{q}&{x}&{y}&{a}&{b}\\\\\\\\'\n",
    "        ss = s.replace('True','T',6)\n",
    "        print(ss.replace('False','F',6))\n"
   ]
  }
 ],
 "metadata": {
  "interpreter": {
   "hash": "8eac0b877443e672c512fc10f9a40a6551a41731384696f22385f08b2b6c8da7"
  },
  "kernelspec": {
   "display_name": "Python 3.9.4 64-bit ('3.9.4': pyenv)",
   "name": "python3"
  },
  "language_info": {
   "codemirror_mode": {
    "name": "ipython",
    "version": 3
   },
   "file_extension": ".py",
   "mimetype": "text/x-python",
   "name": "python",
   "nbconvert_exporter": "python",
   "pygments_lexer": "ipython3",
   "version": "3.10.8"
  },
  "orig_nbformat": 4
 },
 "nbformat": 4,
 "nbformat_minor": 2
}
