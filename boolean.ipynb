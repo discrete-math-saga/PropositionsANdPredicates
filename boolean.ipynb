{
 "metadata": {
  "language_info": {
   "codemirror_mode": {
    "name": "ipython",
    "version": 3
   },
   "file_extension": ".py",
   "mimetype": "text/x-python",
   "name": "python",
   "nbconvert_exporter": "python",
   "pygments_lexer": "ipython3",
   "version": "3.7.8-final"
  },
  "orig_nbformat": 2,
  "kernelspec": {
   "name": "python_defaultSpec_1597999950937",
   "display_name": "Python 3.7.8 64-bit"
  }
 },
 "nbformat": 4,
 "nbformat_minor": 2,
 "cells": [
  {
   "cell_type": "code",
   "execution_count": null,
   "metadata": {
    "tags": []
   },
   "outputs": [],
   "source": [
    "pd = [False, True]\n",
    "qd = [False, True]\n",
    "for p in pd:\n",
    "    for q in qd:\n",
    "        x = (not p) or (not q)\n",
    "        y = not ( (not p) or q)\n",
    "        z = not ( p and (not q))\n",
    "        m = f'{p}:{q}:{x}:{y}:{z}'\n",
    "        print(m)"
   ]
  }
 ]
}