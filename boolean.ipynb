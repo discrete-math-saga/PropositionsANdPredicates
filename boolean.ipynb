{
 "cells": [
  {
   "cell_type": "markdown",
   "metadata": {},
   "source": [
    "# 論理演算\n",
    "$$\n",
    "\\begin{align}\n",
    "x&=p \\wedge q\\\\\n",
    "y&= p \\vee q\\\\\n",
    "z&= p\\oplus q\n",
    "\\end{align}\n",
    "$$"
   ]
  },
  {
   "cell_type": "code",
   "execution_count": null,
   "metadata": {},
   "outputs": [],
   "source": [
    "for p in [True, False]:\n",
    "    for q in [True, False]:\n",
    "        x = p and q\n",
    "        y = p or q\n",
    "        z = p ^ q\n",
    "        m = f'{p}:{q}:{x}:{y}:{z}'\n",
    "        print(m)"
   ]
  },
  {
   "cell_type": "markdown",
   "metadata": {},
   "source": [
    "## その他の論理演算\n",
    "$$\n",
    "\\begin{align}\n",
    "x&= (\\neg p)\\vee (\\neg q)\\\\\n",
    "y&= \\neg((\\neg p)\\vee q)\\\\\n",
    "z&= \\neg(p \\wedge (\\neg q))\n",
    "\\end{align}\n",
    "$$"
   ]
  },
  {
   "cell_type": "code",
   "execution_count": null,
   "metadata": {
    "tags": []
   },
   "outputs": [],
   "source": [
    "pd = [False, True]\n",
    "qd = [False, True]\n",
    "for p in pd:\n",
    "    for q in qd:\n",
    "        x = (not p) or (not q)\n",
    "        y = not ( (not p) or q)\n",
    "        z = not ( p and (not q))\n",
    "        m = f'{p}:{q}:{x}:{y}:{z}'\n",
    "        print(m)"
   ]
  }
 ],
 "metadata": {
  "kernelspec": {
   "display_name": "myenv",
   "language": "python",
   "name": "python3"
  },
  "language_info": {
   "codemirror_mode": {
    "name": "ipython",
    "version": 3
   },
   "file_extension": ".py",
   "mimetype": "text/x-python",
   "name": "python",
   "nbconvert_exporter": "python",
   "pygments_lexer": "ipython3",
   "version": "3.12.1"
  },
  "orig_nbformat": 2
 },
 "nbformat": 4,
 "nbformat_minor": 2
}
