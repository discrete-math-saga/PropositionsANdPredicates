{
 "cells": [
  {
   "cell_type": "markdown",
   "metadata": {},
   "source": [
    "# 「逆 (Opposite)」、「裏 (Inverse)」、「対偶 (Contrapositive)」"
   ]
  },
  {
   "cell_type": "code",
   "execution_count": null,
   "metadata": {},
   "outputs": [],
   "source": [
    "def imply(p:bool, q:bool) -> bool:\n",
    "    return not p or q  "
   ]
  },
  {
   "cell_type": "markdown",
   "metadata": {},
   "source": [
    "- 命題 $p\\Rightarrow q$ の逆 (opposite): $q \\Rightarrow p$\n",
    "- 命題 $p\\Rightarrow q$ の裏 (inverse):$\\neg p \\Rightarrow \\neg q$\n",
    "- 命題 $p \\Rightarrow q$ の対偶 (contrapositive): $\\neg q \\Rightarrow \\neg p$"
   ]
  },
  {
   "cell_type": "markdown",
   "metadata": {},
   "source": [
    "$$\n",
    "\\begin{align*}\n",
    "w&=p\\Rightarrow q\\\\\n",
    "x&=q\\Rightarrow p\\\\\n",
    "y&=\\neg p\\Rightarrow \\neg q\\\\\n",
    "z&=\\neg q\\Rightarrow \\neg p\n",
    "\\end{align*}\n",
    "$$"
   ]
  },
  {
   "cell_type": "code",
   "execution_count": null,
   "metadata": {},
   "outputs": [],
   "source": [
    "\n",
    "for p in [True, False]:\n",
    "    for q in [True, False]:\n",
    "        w = imply(p, q)\n",
    "        x = imply(q, p)\n",
    "        y = imply(not p, not q)\n",
    "        z = imply(not q,not p)\n",
    "        s = f'{p}&{q}&{w}&{x}&{y}&{z}\\\\\\\\'\n",
    "        ss = s.replace('True','T',6)\n",
    "        print(ss.replace('False','F',6))\n"
   ]
  }
 ],
 "metadata": {
  "kernelspec": {
   "display_name": "Python 3.9.10 ('myenv')",
   "language": "python",
   "name": "python3"
  },
  "language_info": {
   "codemirror_mode": {
    "name": "ipython",
    "version": 3
   },
   "file_extension": ".py",
   "mimetype": "text/x-python",
   "name": "python",
   "nbconvert_exporter": "python",
   "pygments_lexer": "ipython3",
   "version": "3.12.1"
  },
  "orig_nbformat": 4,
  "vscode": {
   "interpreter": {
    "hash": "b3b804b6b7a7d9b475cf928428dd1242016eacc24c47853aaf0f8d1d2228aa39"
   }
  }
 },
 "nbformat": 4,
 "nbformat_minor": 2
}
