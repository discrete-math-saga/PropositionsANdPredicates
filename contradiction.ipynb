{
 "cells": [
  {
   "cell_type": "code",
   "execution_count": 2,
   "metadata": {},
   "outputs": [
    {
     "name": "stdout",
     "output_type": "stream",
     "text": [
      "T&T&T&T\\\\\n",
      "T&F&F&F\\\\\n",
      "F&T&T&T\\\\\n",
      "F&F&T&T\\\\\n"
     ]
    }
   ],
   "source": [
    "import re\n",
    "for p in [True, False]:\n",
    "    for q in [True, False]:\n",
    "        x = (not p) or q\n",
    "        y = q or (not p)\n",
    "        s = f'{p}&{q}&{x}&{y}\\\\\\\\'\n",
    "        ss = s.replace('True','T',4)\n",
    "        print(ss.replace('False','F',4))\n"
   ]
  }
 ],
 "metadata": {
  "kernelspec": {
   "display_name": "Python 3.9.10 ('myenv')",
   "language": "python",
   "name": "python3"
  },
  "language_info": {
   "codemirror_mode": {
    "name": "ipython",
    "version": 3
   },
   "file_extension": ".py",
   "mimetype": "text/x-python",
   "name": "python",
   "nbconvert_exporter": "python",
   "pygments_lexer": "ipython3",
   "version": "3.9.10"
  },
  "orig_nbformat": 4,
  "vscode": {
   "interpreter": {
    "hash": "b3b804b6b7a7d9b475cf928428dd1242016eacc24c47853aaf0f8d1d2228aa39"
   }
  }
 },
 "nbformat": 4,
 "nbformat_minor": 2
}
